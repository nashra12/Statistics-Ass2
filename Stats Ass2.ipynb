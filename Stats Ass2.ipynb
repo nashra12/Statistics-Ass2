{
 "cells": [
  {
   "cell_type": "markdown",
   "id": "cacd6d0e-38e5-458d-b6d9-c12faa211750",
   "metadata": {},
   "source": [
    "Q1. What are the three measures of central tendency?\n",
    "Ans-> The three measures of central tendency are:\n",
    "\n",
    "    Mean: The arithmetic average of a set of numbers, calculated by summing all the numbers and then dividing by the count of numbers.\n",
    "\n",
    "    Median: The middle value in a set of numbers when they are arranged in ascending or descending order. If the set has an even number of observations, the median is the average of the two middle numbers.\n",
    "\n",
    "    Mode: The number that appears most frequently in a set of numbers. A set can have more than one mode if multiple numbers appear with the same highest frequency.\n",
    "    \n",
    "    \n",
    "Q2. What is the difference between the mean, median, and mode? How are they used to measure the\n",
    "central tendency of a dataset?\n",
    "Ans-> The three measures of central tendency are:\n",
    "\n",
    "    Mean: The arithmetic average of a set of numbers, calculated by summing all the numbers and then dividing by the count of numbers.\n",
    "    The mean is used when the data is symmetrically distributed without outliers, as it considers all values in the dataset.\n",
    "    \n",
    "    Median: The middle value in a set of numbers when they are arranged in ascending or descending order. If the set has an even number of observations, the median is the average of the two middle numbers.\n",
    "    The median is used when the data is skewed or contains outliers.\n",
    "\n",
    "    Mode: The number that appears most frequently in a set of numbers. A set can have more than one mode if multiple numbers appear with the same highest frequency. The mode is used for categorical data or when identifying the most common value is important. It is useful in understanding the most frequent occurrence in the data.\n",
    "Q3. Measure the three measures of central tendency for the given height data:\n",
    " [178,177,176,177,178.2,178,175,179,180,175,178.9,176.2,177,172.5,178,176.5]\n",
    " Ans-> Mean: 177.01875\n",
    "Median: 177.0\n",
    "Mode: 178\n",
    "\n",
    "\n",
    "Q4. Find the standard deviation for the given data:\n",
    "[178,177,176,177,178.2,178,175,179,180,175,178.9,176.2,177,172.5,178,176.5]\n",
    "Ans-> approximately 1.791.79.\n",
    "\n",
    "\n",
    "Q5. How are measures of dispersion such as range, variance, and standard deviation used to describe\n",
    "the spread of a dataset? Provide an example.\n",
    "Ans->\n",
    "Q6. What is a Venn diagram?\n",
    "Q7. For the two given sets A = (2,3,4,5,6,7) & B = (0,2,6,8,10). Find:\n",
    "(i) A B\n",
    "(ii) A ⋃ B\n",
    "Q8. What do you understand about skewness in data?\n",
    "Q9. If a data is right skewed then what will be the position of median with respect to mean?\n",
    "Q10. Explain the difference between covariance and correlation. How are these measures used in\n",
    "statistical analysis?\n",
    "Q11. What is the formula for calculating the sample mean? Provide an example calculation for a\n",
    "dataset.\n",
    "Q12. For a normal distribution data what is the relationship between its measure of central tendency?\n",
    "Q13. How is covariance different from correlation?\n",
    "Q14. How do outliers affect measures of central tendency and dispersion? Provide an example."
   ]
  }
 ],
 "metadata": {
  "kernelspec": {
   "display_name": "Python 3 (ipykernel)",
   "language": "python",
   "name": "python3"
  },
  "language_info": {
   "codemirror_mode": {
    "name": "ipython",
    "version": 3
   },
   "file_extension": ".py",
   "mimetype": "text/x-python",
   "name": "python",
   "nbconvert_exporter": "python",
   "pygments_lexer": "ipython3",
   "version": "3.10.8"
  }
 },
 "nbformat": 4,
 "nbformat_minor": 5
}
